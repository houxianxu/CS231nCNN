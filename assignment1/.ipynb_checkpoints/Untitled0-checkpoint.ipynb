{
 "metadata": {
  "name": "",
  "signature": "sha256:333c09c79dc4fa334462986a4f1d6cec1882eabbbdfcd32727826cc4bf8bb1b3"
 },
 "nbformat": 3,
 "nbformat_minor": 0,
 "worksheets": []
}